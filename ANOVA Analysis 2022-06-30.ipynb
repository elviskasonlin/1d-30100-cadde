{
 "cells": [
  {
   "cell_type": "markdown",
   "id": "01204b58",
   "metadata": {
    "id": "01204b58"
   },
   "source": [
    "# Analysis for CaDDE 1D"
   ]
  },
  {
   "cell_type": "markdown",
   "id": "93002899",
   "metadata": {
    "id": "93002899"
   },
   "source": [
    "This code relies upon the following packages:\n",
    "\n",
    "- `pandas`: Open-source statistical package add-on that relies on dataframes\n",
    "- `pingouin`: Plotter\n",
    "- `matplotlib`: Creating nice graphical plots\n",
    "- `tabulate`: Simple table output maker"
   ]
  },
  {
   "cell_type": "code",
   "execution_count": 2,
   "id": "2c7333b6",
   "metadata": {
    "id": "2c7333b6"
   },
   "outputs": [
    {
     "name": "stderr",
     "output_type": "stream",
     "text": [
      "/Users/elviskasonlin/.pyenv/versions/3.9.7/envs/sclab/lib/python3.9/site-packages/outdated/utils.py:14: OutdatedPackageWarning: The package pingouin is out of date. Your version is 0.5.1, the latest is 0.5.2.\n",
      "Set the environment variable OUTDATED_IGNORE=1 to disable these warnings.\n",
      "  return warn(\n"
     ]
    }
   ],
   "source": [
    "import pandas\n",
    "import pingouin \n",
    "import matplotlib.pyplot as pyplot \n",
    "import tabulate\n",
    "import numpy as np"
   ]
  },
  {
   "cell_type": "markdown",
   "id": "c8d8ff89",
   "metadata": {
    "id": "c8d8ff89"
   },
   "source": [
    "## Preprocessing"
   ]
  },
  {
   "cell_type": "markdown",
   "id": "c437e794",
   "metadata": {
    "id": "c437e794"
   },
   "source": [
    "Define function for reading a csv file and return a pandas dataframe"
   ]
  },
  {
   "cell_type": "code",
   "execution_count": 11,
   "id": "08b77a44",
   "metadata": {
    "id": "08b77a44"
   },
   "outputs": [],
   "source": [
    "def readCsvAsDf(file_name):\n",
    "    \"\"\"\n",
    "    Reads a given .csv file and converts it into a pandas dataframe\n",
    "        * file_name (`str`): The name of the .csv file\n",
    "    Returns:\n",
    "        * If successful, returns a pandas dataframe\n",
    "        * If error, returns a tuple with the following:\n",
    "            * 0 (`int`): An integer to flag that the operation was unsuccessful\n",
    "            * Error message (`str`): A custom error message\n",
    "    \"\"\"\n",
    "    df = None\n",
    "    try:\n",
    "        my_file = open(file_name) # Opens the given file\n",
    "        df = pandas.read_csv(my_file, header=0, index_col=0) # Change to Dataframe in pandas\n",
    "        my_file.close() # Closes the given file\n",
    "    except Exception as err:\n",
    "        print(err)\n",
    "        return (0, \"Error with reading csv file\")\n",
    "\n",
    "    return df"
   ]
  },
  {
   "cell_type": "markdown",
   "id": "17206097",
   "metadata": {
    "id": "17206097"
   },
   "source": [
    "Read data file"
   ]
  },
  {
   "cell_type": "code",
   "execution_count": 12,
   "id": "bbe98bbc",
   "metadata": {
    "id": "bbe98bbc",
    "scrolled": true
   },
   "outputs": [],
   "source": [
    "data_file = readCsvAsDf('data-30_40_sys-cleaned.csv')"
   ]
  },
  {
   "cell_type": "code",
   "execution_count": 13,
   "id": "95ebdc5f",
   "metadata": {
    "id": "95ebdc5f",
    "outputId": "a4fda827-9151-40c2-cc7d-a1298a54475a"
   },
   "outputs": [],
   "source": [
    "#print(data_file)\n",
    "#print(tabulate.tabulate(data_file, headers='keys', tablefmt=\"fancy_grid\"))"
   ]
  },
  {
   "cell_type": "markdown",
   "id": "49d3f96a",
   "metadata": {
    "id": "49d3f96a"
   },
   "source": [
    "Preprocess original data to make it dataframe compliant"
   ]
  },
  {
   "cell_type": "code",
   "execution_count": 14,
   "id": "01998194",
   "metadata": {
    "id": "01998194"
   },
   "outputs": [],
   "source": [
    "# Get row & column counts of the raw data\n",
    "current_table_shape = data_file.shape\n",
    "\n",
    "col_names_trials = [\"Reading 1 with Offset\", \"Reading 2 with Offset\", \"Reading 3 with Offset\"]\n",
    "col_names_new_df = ['Blade Count', 'Blade Width mm', 'Blade Length mm', 'Pitch at Root deg', 'Result N']\n",
    "col_names_factors = ['Blade Count', 'Blade Width mm', 'Blade Length mm', 'Pitch at Root deg']"
   ]
  },
  {
   "cell_type": "code",
   "execution_count": 67,
   "id": "a5fecaac",
   "metadata": {
    "id": "a5fecaac"
   },
   "outputs": [
    {
     "name": "stdout",
     "output_type": "stream",
     "text": [
      "    Blade Count  Blade Width mm  Blade Length mm  Pitch at Root deg  Result N\n",
      "0           2.0            12.0             30.0               45.0  0.063078\n",
      "1           2.0            12.0             30.0               45.0  0.063471\n",
      "2           2.0            12.0             30.0               45.0  0.063569\n",
      "3           2.0            16.0             30.0               30.0  0.061803\n",
      "4           2.0            16.0             30.0               30.0  0.061214\n",
      "5           2.0            16.0             30.0               30.0  0.061509\n",
      "6           3.0            12.0             30.0               30.0  0.060920\n",
      "7           3.0            12.0             30.0               30.0  0.060724\n",
      "8           3.0            12.0             30.0               30.0  0.060724\n",
      "9           3.0            16.0             30.0               45.0  0.060332\n",
      "10          3.0            16.0             30.0               45.0  0.060233\n",
      "11          3.0            16.0             30.0               45.0  0.060332\n",
      "12          2.0            12.0             40.0               30.0  0.065923\n",
      "13          2.0            12.0             40.0               30.0  0.066119\n",
      "14          2.0            12.0             40.0               30.0  0.066119\n",
      "15          2.0            16.0             40.0               45.0  0.067297\n",
      "16          2.0            16.0             40.0               45.0  0.067689\n",
      "17          2.0            16.0             40.0               45.0  0.066806\n",
      "18          3.0            12.0             40.0               45.0  0.068081\n",
      "19          3.0            12.0             40.0               45.0  0.068081\n",
      "20          3.0            12.0             40.0               45.0  0.068964\n",
      "21          3.0            16.0             40.0               30.0  0.075145\n",
      "22          3.0            16.0             40.0               30.0  0.074458\n",
      "23          3.0            16.0             40.0               30.0  0.074164\n"
     ]
    }
   ],
   "source": [
    "new_df = pandas.DataFrame(data=None, columns=col_names_new_df) # Create a brand new dataframe\n",
    "\n",
    "# ======================================================================================\n",
    "# The code below essentially adds individual row entries for every trial per experiment\n",
    "#  So since we have 3 readings, for every experiment, we will be adding 3 entries that \n",
    "#  only have its result value changed.\n",
    "# You won't need it if you've already pre-processed the data outside\n",
    "# ======================================================================================\n",
    "# WHY?\n",
    "# Because for some reason, ANOVA throws an error with only the average reading per exp.\n",
    "# ======================================================================================\n",
    "\n",
    "for idx in range(current_table_shape[0]):\n",
    "    # Get all the results from different trials as a pandas series\n",
    "    temp = data_file.iloc[idx][col_names_trials] \n",
    "    # Set an empty list to serve as a new row entry\n",
    "    to_insert = list()\n",
    "    \n",
    "    # To add in all the factor values into the to_insert list\n",
    "    for i in range(len(col_names_factors)):\n",
    "        to_insert.append(data_file.iloc[idx][col_names_new_df[i]])\n",
    "    \n",
    "    # Add a new column entry for results\n",
    "    to_insert.append(None)\n",
    "    \n",
    "    # For each trial, insert a new row entry to the new_df dataframe\n",
    "    for i in range(len(temp)):\n",
    "        to_insert[-1] = abs(temp[i]) * 9.81 / 1000\n",
    "        #print(len(to_insert), len(new_df))\n",
    "        \n",
    "        cur_row_count = len(new_df.index)\n",
    "        new_df.loc[cur_row_count] = to_insert\n",
    "\n",
    "print(new_df)"
   ]
  },
  {
   "cell_type": "code",
   "execution_count": 68,
   "id": "7d27db54",
   "metadata": {
    "id": "7d27db54",
    "outputId": "6fbc6eef-cc5b-4eb9-bfbc-f2ab56e15c7c"
   },
   "outputs": [],
   "source": [
    "#print(tabulate.tabulate(new_df, headers='keys', tablefmt='fancy'))"
   ]
  },
  {
   "cell_type": "markdown",
   "id": "f6da8ac4",
   "metadata": {
    "id": "f6da8ac4"
   },
   "source": [
    "## Run Analyses"
   ]
  },
  {
   "cell_type": "code",
   "execution_count": 69,
   "id": "3b9ee288",
   "metadata": {
    "id": "3b9ee288"
   },
   "outputs": [],
   "source": [
    "# Specifying the name of the results column\n",
    "col_res_name = col_names_new_df[-1]"
   ]
  },
  {
   "cell_type": "code",
   "execution_count": 70,
   "id": "b5abd1b4",
   "metadata": {
    "id": "b5abd1b4"
   },
   "outputs": [],
   "source": [
    "# Run 4 way anova\n",
    "# Take note that the ss_type is just specifying what method to use for sum of squares\n",
    "anova_summary = new_df.anova(dv=col_res_name, between=col_names_factors, ss_type=3).round(9)"
   ]
  },
  {
   "cell_type": "markdown",
   "id": "cfe348c6",
   "metadata": {
    "id": "cfe348c6"
   },
   "source": [
    "Export the anova summary as a nice table using the `tabulate` package"
   ]
  },
  {
   "cell_type": "code",
   "execution_count": 77,
   "id": "144bf109",
   "metadata": {
    "id": "144bf109",
    "outputId": "ab5cee0d-b582-4a22-fb8b-8c633f775807",
    "scrolled": false
   },
   "outputs": [
    {
     "name": "stdout",
     "output_type": "stream",
     "text": [
      "\\begin{tabular}{rlrrrrrr}\n",
      "\\hline\n",
      "    & Source                                                             &          SS &   DF &          MS &           F &       p-unc &        np2 \\\\\n",
      "\\hline\n",
      "  0 & Blade Count                                                        & 1.2848e-05  &    1 & 1.2848e-05  &    115.255  &   1e-08     &   0.8781   \\\\\n",
      "  1 & Blade Width mm                                                     & 9.634e-06   &    1 & 9.634e-06   &     86.4209 &   7.5e-08   &   0.843782 \\\\\n",
      "  2 & Blade Length mm                                                    & 0.000344577 &    1 & 0.000344577 &   3091.11   &   0         &   0.994851 \\\\\n",
      "  3 & Pitch at Root deg                                                  & 4.941e-06   &    1 & 4.941e-06   &     44.3201 &   5.507e-06 &   0.734749 \\\\\n",
      "  4 & Blade Count * Blade Width mm                                       & 1.5247e-05  &    1 & 1.5247e-05  &    136.781  &   3e-09     &   0.895275 \\\\\n",
      "  5 & Blade Count * Blade Length mm                                      & 6.7735e-05  &    1 & 6.7735e-05  &    607.629  &   0         &   0.974344 \\\\\n",
      "  6 & Blade Width mm * Blade Length mm                                   & 3.5848e-05  &    1 & 3.5848e-05  &    321.586  &   0         &   0.952605 \\\\\n",
      "  7 & Blade Count * Pitch at Root deg                                    & 3.5848e-05  &    1 & 3.5848e-05  &    321.586  &   0         &   0.952605 \\\\\n",
      "  8 & Blade Width mm * Pitch at Root deg                                 & 6.7735e-05  &    1 & 6.7735e-05  &    607.629  &   0         &   0.974344 \\\\\n",
      "  9 & Blade Length mm * Pitch at Root deg                                & 1.5247e-05  &    1 & 1.5247e-05  &    136.781  &   3e-09     &   0.895275 \\\\\n",
      " 10 & Blade Count * Blade Width mm * Blade Length mm                     & 4.941e-06   &    1 & 4.941e-06   &     44.3201 &   5.507e-06 &   0.734749 \\\\\n",
      " 11 & Blade Count * Blade Width mm * Pitch at Root deg                   & 0.000344577 &    1 & 0.000344577 &   3091.11   &   0         &   0.994851 \\\\\n",
      " 12 & Blade Count * Blade Length mm * Pitch at Root deg                  & 9.634e-06   &    1 & 9.634e-06   &     86.4209 &   7.5e-08   &   0.843782 \\\\\n",
      " 13 & Blade Width mm * Blade Length mm * Pitch at Root deg               & 1.2848e-05  &    1 & 1.2848e-05  &    115.255  &   1e-08     &   0.8781   \\\\\n",
      " 14 & Blade Count * Blade Width mm * Blade Length mm * Pitch at Root deg & 0.10228     &    1 & 0.10228     & 917528      &   0         &   0.999983 \\\\\n",
      " 15 & Residual                                                           & 1.784e-06   &   16 & 1.11e-07    &    nan      & nan         & nan        \\\\\n",
      "\\hline\n",
      "\\end{tabular}\n"
     ]
    }
   ],
   "source": [
    "# Using the tabulate library to create nice tables!\n",
    "# If using latex, just change the tablefmt to \"latex\"\n",
    "\n",
    "print(tabulate.tabulate(anova_summary, headers='keys', tablefmt=\"latex\"))"
   ]
  },
  {
   "cell_type": "markdown",
   "id": "3835d731",
   "metadata": {
    "id": "3835d731"
   },
   "source": [
    "## Report's Tables"
   ]
  },
  {
   "cell_type": "markdown",
   "id": "4feec03c",
   "metadata": {
    "id": "4feec03c"
   },
   "source": [
    "Creates a new dataframe with all the factors' values replaced by a DoE-esque values. Levels start from 0 and increases per subsequent level for hte factor"
   ]
  },
  {
   "cell_type": "code",
   "execution_count": 78,
   "id": "bacbdc76",
   "metadata": {
    "id": "bacbdc76"
   },
   "outputs": [],
   "source": [
    "#print(tabulate.tabulate(data_file, headers='keys', tablefmt=\"sql\"))\n",
    "df_doe = data_file.copy(\"deep\")"
   ]
  },
  {
   "cell_type": "code",
   "execution_count": 79,
   "id": "fa9f8372",
   "metadata": {},
   "outputs": [
    {
     "name": "stdout",
     "output_type": "stream",
     "text": [
      "                   Blade Count  Blade Width mm  Blade Length mm  \\\n",
      "Experiment Number                                                 \n",
      "1                            2              12               30   \n",
      "2                            2              16               30   \n",
      "3                            3              12               30   \n",
      "4                            3              16               30   \n",
      "5                            2              12               40   \n",
      "6                            2              16               40   \n",
      "7                            3              12               40   \n",
      "8                            3              16               40   \n",
      "\n",
      "                   Pitch at Root deg  Reading 1 with Offset  \\\n",
      "Experiment Number                                             \n",
      "1                                 45                  -6.43   \n",
      "2                                 30                  -6.30   \n",
      "3                                 30                  -6.21   \n",
      "4                                 45                  -6.15   \n",
      "5                                 30                  -6.72   \n",
      "6                                 45                  -6.86   \n",
      "7                                 45                  -6.94   \n",
      "8                                 30                  -7.66   \n",
      "\n",
      "                   Reading 2 with Offset  Reading 3 with Offset  \\\n",
      "Experiment Number                                                 \n",
      "1                                  -6.47                  -6.48   \n",
      "2                                  -6.24                  -6.27   \n",
      "3                                  -6.19                  -6.19   \n",
      "4                                  -6.14                  -6.15   \n",
      "5                                  -6.74                  -6.74   \n",
      "6                                  -6.90                  -6.81   \n",
      "7                                  -6.94                  -7.03   \n",
      "8                                  -7.59                  -7.56   \n",
      "\n",
      "                   Readings Average grams  Thrust per W  \n",
      "Experiment Number                                        \n",
      "1                                   6.460        0.0329  \n",
      "2                                   6.270        0.0320  \n",
      "3                                   6.197        0.0316  \n",
      "4                                   6.147        0.0313  \n",
      "5                                   6.733        0.0343  \n",
      "6                                   6.857        0.0349  \n",
      "7                                   6.970        0.0355  \n",
      "8                                   7.603        0.0387  \n"
     ]
    }
   ],
   "source": [
    "print(df_doe)"
   ]
  },
  {
   "cell_type": "code",
   "execution_count": 86,
   "id": "cf40e971",
   "metadata": {
    "id": "cf40e971",
    "scrolled": true
   },
   "outputs": [],
   "source": [
    "def replace_with_levels(df, target):\n",
    "    # A deep copy of the dataframe\n",
    "    df_select = df[target].copy(\"deep\").dropna()\n",
    "    #print(\"SHAPE:\", df_select.shape, \"TYPE:\", type(df_select))\n",
    "    #print(\"Dropped df_select:\", \"\\n\", df_select, \"\\n\")\n",
    "    \n",
    "    # Get different distinct values\n",
    "    distinct_values = df_select.unique().tolist()\n",
    "    distinct_values.sort()\n",
    "    #print(\"Target:\", target, \"Distinct_values:\", distinct_values, \"\\n\")\n",
    "    #print(\"DF_SELECT=====\\n\", df_select)\n",
    "    \n",
    "    for idx, val in enumerate(df_select):\n",
    "        #print(\"---ENUM INX:\", idx, \"ENUM VAL:\", val)\n",
    "        r = distinct_values.index(val)\n",
    "        df_select.loc[idx+1] = r\n",
    "\n",
    "    return df_select.to_frame(name=target)"
   ]
  },
  {
   "cell_type": "code",
   "execution_count": 87,
   "id": "1bff31e4",
   "metadata": {},
   "outputs": [
    {
     "name": "stdout",
     "output_type": "stream",
     "text": [
      "                   Pitch at Root deg\n",
      "Experiment Number                   \n",
      "1                                  1\n",
      "2                                  0\n",
      "3                                  0\n",
      "4                                  1\n",
      "5                                  0\n",
      "6                                  1\n",
      "7                                  1\n",
      "8                                  0\n"
     ]
    }
   ],
   "source": [
    "print(replace_with_levels(df_doe, each))"
   ]
  },
  {
   "cell_type": "code",
   "execution_count": 88,
   "id": "497d8419",
   "metadata": {
    "scrolled": false
   },
   "outputs": [],
   "source": [
    "col_names_factors = ['Blade Count', 'Blade Width mm', 'Blade Length mm', 'Pitch at Root deg']\n",
    "\n",
    "for each in col_names_factors:\n",
    "    temp = replace_with_levels(df_doe, each)\n",
    "    df_doe[each] = temp"
   ]
  },
  {
   "cell_type": "code",
   "execution_count": 89,
   "id": "e553bc89",
   "metadata": {},
   "outputs": [
    {
     "name": "stdout",
     "output_type": "stream",
     "text": [
      "                   Blade Count  Blade Width mm  Blade Length mm  \\\n",
      "Experiment Number                                                 \n",
      "1                            0               0                0   \n",
      "2                            0               1                0   \n",
      "3                            1               0                0   \n",
      "4                            1               1                0   \n",
      "5                            0               0                1   \n",
      "6                            0               1                1   \n",
      "7                            1               0                1   \n",
      "8                            1               1                1   \n",
      "\n",
      "                   Pitch at Root deg  Reading 1 with Offset  \\\n",
      "Experiment Number                                             \n",
      "1                                  1                  -6.43   \n",
      "2                                  0                  -6.30   \n",
      "3                                  0                  -6.21   \n",
      "4                                  1                  -6.15   \n",
      "5                                  0                  -6.72   \n",
      "6                                  1                  -6.86   \n",
      "7                                  1                  -6.94   \n",
      "8                                  0                  -7.66   \n",
      "\n",
      "                   Reading 2 with Offset  Reading 3 with Offset  \\\n",
      "Experiment Number                                                 \n",
      "1                                  -6.47                  -6.48   \n",
      "2                                  -6.24                  -6.27   \n",
      "3                                  -6.19                  -6.19   \n",
      "4                                  -6.14                  -6.15   \n",
      "5                                  -6.74                  -6.74   \n",
      "6                                  -6.90                  -6.81   \n",
      "7                                  -6.94                  -7.03   \n",
      "8                                  -7.59                  -7.56   \n",
      "\n",
      "                   Readings Average grams  Thrust per W  \n",
      "Experiment Number                                        \n",
      "1                                   6.460        0.0329  \n",
      "2                                   6.270        0.0320  \n",
      "3                                   6.197        0.0316  \n",
      "4                                   6.147        0.0313  \n",
      "5                                   6.733        0.0343  \n",
      "6                                   6.857        0.0349  \n",
      "7                                   6.970        0.0355  \n",
      "8                                   7.603        0.0387  \n"
     ]
    }
   ],
   "source": [
    "print(df_doe)"
   ]
  },
  {
   "cell_type": "markdown",
   "id": "94bde3f4",
   "metadata": {},
   "source": [
    "Creating functions to generate main and interaction effect data values"
   ]
  },
  {
   "cell_type": "code",
   "execution_count": 90,
   "id": "10f953d5",
   "metadata": {},
   "outputs": [],
   "source": [
    "def main_effect(df, target, results_col_name, sample_count):\n",
    "    df_select = df[target].dropna()\n",
    "    distinct_values = df_select.unique().tolist()\n",
    "    \n",
    "    separated_by_levels = list()\n",
    "    for each in distinct_values:\n",
    "        separated_by_levels.append(df[df[target] == each])\n",
    "    #print(separated_by_levels)\n",
    "    \n",
    "    res = list()\n",
    "\n",
    "    for idx, each in enumerate(separated_by_levels):\n",
    "        summed = each[results_col_name].sum(axis=0)\n",
    "        data = summed / (each[results_col_name].shape[0] * sample_count)\n",
    "        res.append(data)\n",
    "        \n",
    "    return (res, len(distinct_values))"
   ]
  },
  {
   "cell_type": "code",
   "execution_count": 91,
   "id": "5e36f4a8",
   "metadata": {},
   "outputs": [],
   "source": [
    "#results_col_name = 'Readings Average grams'\n",
    "#sample_count = 3\n",
    "#main_effect(df_doe, 'Blade Count', results_col_name, sample_count)"
   ]
  },
  {
   "cell_type": "markdown",
   "id": "95ee4046",
   "metadata": {
    "id": "95ee4046"
   },
   "source": [
    "## Plotting of Main and Interaction Effects"
   ]
  },
  {
   "cell_type": "markdown",
   "id": "590bdc9e",
   "metadata": {
    "id": "590bdc9e"
   },
   "source": [
    "Plotting of main effect an interaction effects for $2^{4-1}$ half-factorial design"
   ]
  },
  {
   "cell_type": "markdown",
   "id": "56d8b713",
   "metadata": {
    "id": "56d8b713"
   },
   "source": [
    "*Main effects*"
   ]
  },
  {
   "cell_type": "code",
   "execution_count": 92,
   "id": "a27132c2",
   "metadata": {
    "id": "a27132c2"
   },
   "outputs": [
    {
     "name": "stdout",
     "output_type": "stream",
     "text": [
      "[2.1933333333333334, 2.2430833333333333] 2\n"
     ]
    },
    {
     "data": {
      "image/png": "[encoded data removed]",
      "text/plain": [
       "<Figure size 432x288 with 1 Axes>"
      ]
     },
     "metadata": {
      "needs_background": "light"
     },
     "output_type": "display_data"
    },
    {
     "name": "stdout",
     "output_type": "stream",
     "text": [
      "[2.1966666666666668, 2.2397500000000004] 2\n"
     ]
    },
    {
     "data": {
      "image/png": "[encoded data removed]",
      "text/plain": [
       "<Figure size 432x288 with 1 Axes>"
      ]
     },
     "metadata": {
      "needs_background": "light"
     },
     "output_type": "display_data"
    },
    {
     "name": "stdout",
     "output_type": "stream",
     "text": [
      "[2.0894999999999997, 2.3469166666666665] 2\n"
     ]
    },
    {
     "data": {
      "image/png": "[encoded data removed]",
      "text/plain": [
       "<Figure size 432x288 with 1 Axes>"
      ]
     },
     "metadata": {
      "needs_background": "light"
     },
     "output_type": "display_data"
    },
    {
     "name": "stdout",
     "output_type": "stream",
     "text": [
      "[2.202833333333333, 2.2335833333333333] 2\n"
     ]
    },
    {
     "data": {
      "image/png": "[encoded data removed]",
      "text/plain": [
       "<Figure size 432x288 with 1 Axes>"
      ]
     },
     "metadata": {
      "needs_background": "light"
     },
     "output_type": "display_data"
    }
   ],
   "source": [
    "results_col_name = 'Readings Average grams'\n",
    "sample_count = 3\n",
    "\n",
    "col_names_factors = ['Blade Count', 'Blade Width mm', 'Blade Length mm', 'Pitch at Root deg']\n",
    "\n",
    "for each in col_names_factors:\n",
    "    kv, levels = main_effect(df_doe, each, results_col_name, sample_count)\n",
    "    print(kv, levels)\n",
    "    x = [i for i in range(levels)]\n",
    "    pyplot.figure()\n",
    "    pyplot.plot(x, kv)\n",
    "    pyplot.title(each)\n",
    "    pyplot.figtext(x=0, y=0, s= \"M.E.: \" + str(round(kv[1] - kv[0], 6)))\n",
    "    pyplot.xticks(np.arange(min(x), max(x)+1, 1))\n",
    "    pyplot.grid(visible=True)\n",
    "    pyplot.show()\n",
    "    \n",
    "    #pyplot.errorbar(x=x, y=y, yerr=MSE, marker=\"s\", capsize=5)"
   ]
  },
  {
   "cell_type": "markdown",
   "id": "15dac8cd",
   "metadata": {
    "id": "15dac8cd"
   },
   "source": [
    "*Interaction effects*"
   ]
  },
  {
   "cell_type": "code",
   "execution_count": 93,
   "id": "4ba341e4",
   "metadata": {},
   "outputs": [],
   "source": [
    "from statsmodels.graphics.factorplots import interaction_plot"
   ]
  },
  {
   "cell_type": "code",
   "execution_count": 94,
   "id": "44de065e",
   "metadata": {},
   "outputs": [],
   "source": [
    "def replace_with_levels_modified(df, target):\n",
    "    df_select = df[target].copy(\"deep\").dropna()\n",
    "    \n",
    "    # Get different distinct values\n",
    "    distinct_values = df_select.unique().tolist()\n",
    "    distinct_values.sort()\n",
    "    \n",
    "    for idx, val in enumerate(df_select):\n",
    "        r = distinct_values.index(val)\n",
    "        df_select.loc[idx] = r\n",
    "\n",
    "    return df_select.to_frame(name=target)"
   ]
  },
  {
   "cell_type": "code",
   "execution_count": 109,
   "id": "85776dc0",
   "metadata": {
    "scrolled": false
   },
   "outputs": [],
   "source": [
    "new_df_2 = new_df.copy(\"deep\")\n",
    "\n",
    "col_names_factors = ['Blade Count', 'Blade Width mm', 'Blade Length mm', 'Pitch at Root deg']\n",
    "\n",
    "for each in col_names_factors:\n",
    "    temp = replace_with_levels_modified(new_df_2, each)\n",
    "    new_df_2[each] = temp\n",
    "    \n",
    "#print(new_df_2)"
   ]
  },
  {
   "cell_type": "code",
   "execution_count": 110,
   "id": "ca79f761",
   "metadata": {},
   "outputs": [
    {
     "data": {
      "image/png": "[encoded data removed]",
      "text/plain": [
       "<Figure size 432x288 with 1 Axes>"
      ]
     },
     "metadata": {
      "needs_background": "light"
     },
     "output_type": "display_data"
    },
    {
     "data": {
      "image/png": "[encoded data removed]",
      "text/plain": [
       "<Figure size 432x288 with 1 Axes>"
      ]
     },
     "metadata": {
      "needs_background": "light"
     },
     "output_type": "display_data"
    },
    {
     "data": {
      "image/png": "[encoded data removed]",
      "text/plain": [
       "<Figure size 432x288 with 1 Axes>"
      ]
     },
     "metadata": {
      "needs_background": "light"
     },
     "output_type": "display_data"
    },
    {
     "data": {
      "image/png": "[encoded data removed]",
      "text/plain": [
       "<Figure size 432x288 with 1 Axes>"
      ]
     },
     "metadata": {
      "needs_background": "light"
     },
     "output_type": "display_data"
    },
    {
     "data": {
      "image/png": "[encoded data removed]",
      "text/plain": [
       "<Figure size 432x288 with 1 Axes>"
      ]
     },
     "metadata": {
      "needs_background": "light"
     },
     "output_type": "display_data"
    },
    {
     "data": {
      "image/png": "[encoded data removed]",
      "text/plain": [
       "<Figure size 432x288 with 1 Axes>"
      ]
     },
     "metadata": {
      "needs_background": "light"
     },
     "output_type": "display_data"
    }
   ],
   "source": [
    "interaction_plot(new_df_2[col_names_factors[0]], new_df_2[col_names_factors[1]], new_df_2['Result N'])\n",
    "pyplot.savefig(\"bcxbw.svg\")\n",
    "\n",
    "interaction_plot(new_df_2[col_names_factors[0]], new_df_2[col_names_factors[2]], new_df_2['Result N'])\n",
    "pyplot.savefig(\"bcxbl.svg\")\n",
    "\n",
    "interaction_plot(new_df_2[col_names_factors[0]], new_df_2[col_names_factors[3]], new_df_2['Result N'])\n",
    "pyplot.savefig(\"bcxp.svg\")\n",
    "\n",
    "interaction_plot(new_df_2[col_names_factors[1]], new_df_2[col_names_factors[2]], new_df_2['Result N'])\n",
    "pyplot.savefig(\"bwxbll.svg\")\n",
    "\n",
    "interaction_plot(new_df_2[col_names_factors[1]], new_df_2[col_names_factors[3]], new_df_2['Result N'])\n",
    "pyplot.savefig(\"bwxp.svg\")\n",
    "\n",
    "interaction_plot(new_df_2[col_names_factors[2]], new_df_2[col_names_factors[3]], new_df_2['Result N'])\n",
    "pyplot.savefig(\"blxp.svg\")"
   ]
  },
  {
   "cell_type": "code",
   "execution_count": 6,
   "id": "50d6cda7",
   "metadata": {
    "id": "50d6cda7"
   },
   "outputs": [
    {
     "name": "stdout",
     "output_type": "stream",
     "text": [
      "4.493998477666352\n"
     ]
    }
   ],
   "source": [
    "import scipy.stats as ss\n",
    "\n",
    "F_crit = ss.f.ppf(1-0.05, 1, 16)\n",
    "print(F_crit)"
   ]
  }
 ],
 "metadata": {
  "colab": {
   "name": "ANOVA Analysis 2022-06-13 21_52.ipynb",
   "provenance": []
  },
  "kernelspec": {
   "display_name": "Python 3 (ipykernel)",
   "language": "python",
   "name": "python3"
  },
  "language_info": {
   "codemirror_mode": {
    "name": "ipython",
    "version": 3
   },
   "file_extension": ".py",
   "mimetype": "text/x-python",
   "name": "python",
   "nbconvert_exporter": "python",
   "pygments_lexer": "ipython3",
   "version": "3.9.7"
  }
 },
 "nbformat": 4,
 "nbformat_minor": 5
}
